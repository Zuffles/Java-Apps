{
  "cells": [
    {
      "cell_type": "markdown",
      "metadata": {
        "id": "view-in-github",
        "colab_type": "text"
      },
      "source": [
        "<a href=\"https://colab.research.google.com/github/Zuffles/Java-Apps/blob/main/01_Python_Basic_Exercises.ipynb\" target=\"_parent\"><img src=\"https://colab.research.google.com/assets/colab-badge.svg\" alt=\"Open In Colab\"/></a>"
      ]
    },
    {
      "cell_type": "markdown",
      "id": "1eba3b72",
      "metadata": {
        "id": "1eba3b72"
      },
      "source": [
        "# 01 Python Basics\n",
        "ND May 2023"
      ]
    },
    {
      "cell_type": "markdown",
      "id": "dd38cc99",
      "metadata": {
        "id": "dd38cc99"
      },
      "source": [
        "#### This Jupyter Notebook contains exercises for you to practice the basics of Python. You'll see a mixture of markdown cells and interactive code cells. Attempt the following exercises, which slowly build in complexity. If you get stuck, check back to the <a href = \"https://www.youtube.com/watch?v=9yCSlN2VLSQ\">introductory Python lecture recording here</a> or look through the <a href = \"https://www.python.org\">Python documentation here</a>."
      ]
    },
    {
      "cell_type": "markdown",
      "id": "6e5075e1",
      "metadata": {
        "id": "6e5075e1"
      },
      "source": [
        "### Exercise 1:\n",
        "\n",
        "Write a line of code in Python that prints 'Hello World' to the screen."
      ]
    },
    {
      "cell_type": "code",
      "execution_count": 1,
      "id": "1c93996b",
      "metadata": {
        "scrolled": true,
        "colab": {
          "base_uri": "https://localhost:8080/"
        },
        "id": "1c93996b",
        "outputId": "8f1cbaf0-d905-4948-e1d0-cbb700cf1c48"
      },
      "outputs": [
        {
          "output_type": "stream",
          "name": "stdout",
          "text": [
            "hello world\n"
          ]
        }
      ],
      "source": [
        "# Write your Python code in this interactive code cell and 'run' the code to check it works.\n",
        "print(\"hello world\")\n"
      ]
    },
    {
      "cell_type": "markdown",
      "id": "3ebccf84",
      "metadata": {
        "id": "3ebccf84"
      },
      "source": [
        "### Exercise 2:\n",
        "Now declare a variable called name. Assign your firstname as the value for this variable. Print this value to the screen to check that it has been assigned to the variable."
      ]
    },
    {
      "cell_type": "code",
      "execution_count": 2,
      "id": "0cadfab5",
      "metadata": {
        "colab": {
          "base_uri": "https://localhost:8080/"
        },
        "id": "0cadfab5",
        "outputId": "31f8b83f-88b6-4a45-f3d1-d9ab98434681"
      },
      "outputs": [
        {
          "output_type": "stream",
          "name": "stdout",
          "text": [
            "Nick\n"
          ]
        }
      ],
      "source": [
        "name = \"Nick\"\n",
        "print(name)"
      ]
    },
    {
      "cell_type": "markdown",
      "id": "32bfa255",
      "metadata": {
        "id": "32bfa255"
      },
      "source": [
        "### Exercise 3:\n",
        "\n",
        "Now declare two variables. Assign the value 10 to the first variable. Then assign the value 40 to the second variable. Then add the variables together and print out the result."
      ]
    },
    {
      "cell_type": "code",
      "execution_count": 4,
      "id": "942a91d0",
      "metadata": {
        "scrolled": true,
        "colab": {
          "base_uri": "https://localhost:8080/"
        },
        "id": "942a91d0",
        "outputId": "a3235a37-4cb6-4a51-b53d-021a6e59680a"
      },
      "outputs": [
        {
          "output_type": "stream",
          "name": "stdout",
          "text": [
            "50\n"
          ]
        }
      ],
      "source": [
        "age = 10\n",
        "age1 = 40\n",
        "print (age + age1)"
      ]
    },
    {
      "cell_type": "markdown",
      "id": "42004548",
      "metadata": {
        "id": "42004548"
      },
      "source": [
        "### Exercise 4:\n",
        "Providing you have completed the previous two exercises, you should have three variables with assigned values. Now write code in the cell below which will print out the individual values for these variables declared previously. In terms of formatting, print out one value for each line. You could use the '\\n' escape character for a 'new line'\n",
        "\n",
        "Note: You won't need to re-declare these variables as the values should still be stored in memory until the session is closed."
      ]
    },
    {
      "cell_type": "code",
      "execution_count": 6,
      "id": "93304814",
      "metadata": {
        "colab": {
          "base_uri": "https://localhost:8080/"
        },
        "id": "93304814",
        "outputId": "5e800814-f60e-48fc-f508-47e357786088"
      },
      "outputs": [
        {
          "output_type": "stream",
          "name": "stdout",
          "text": [
            "10\n",
            "40\n",
            "50\n"
          ]
        }
      ],
      "source": [
        "print(age)\n",
        "print(age1)\n",
        "print(age + age1)"
      ]
    },
    {
      "cell_type": "markdown",
      "id": "7d697f44",
      "metadata": {
        "id": "7d697f44"
      },
      "source": [
        "### Exericse 5:\n",
        "Now use a function in Python to ask the user to enter their name. This name should be stored in an appropriate variable. Once stored, print the value of this variable (what the user entered) to the screen."
      ]
    },
    {
      "cell_type": "code",
      "execution_count": 13,
      "id": "c6a148e5",
      "metadata": {
        "colab": {
          "base_uri": "https://localhost:8080/"
        },
        "id": "c6a148e5",
        "outputId": "8e74dfa2-7cc5-4dc3-bfb3-ad3539d61edf"
      },
      "outputs": [
        {
          "output_type": "stream",
          "name": "stdout",
          "text": [
            "please enter your name: Nick\n",
            "Nick\n"
          ]
        }
      ],
      "source": [
        "name = input(\"please enter your name: \")\n",
        "print(name)"
      ]
    },
    {
      "cell_type": "markdown",
      "id": "f02de2c2",
      "metadata": {
        "id": "f02de2c2"
      },
      "source": [
        "### Exercise 6:\n",
        "Now ask the user to enter two numbers, and store these inputs in two variables. Once stored, print out the average of the two numbers.\n",
        "\n",
        "Hint: If you get stuck, first check which type of data is being returned from the Python function."
      ]
    },
    {
      "cell_type": "code",
      "execution_count": 30,
      "id": "22b02237",
      "metadata": {
        "colab": {
          "base_uri": "https://localhost:8080/"
        },
        "id": "22b02237",
        "outputId": "57b6e27c-55e0-4263-f559-bc5a3f073e1e"
      },
      "outputs": [
        {
          "output_type": "stream",
          "name": "stdout",
          "text": [
            "please enter a number: 43002\n",
            "please enter another number: 2300\n",
            "22651.0\n"
          ]
        }
      ],
      "source": [
        "\n",
        "no1 = int(input(\"please enter a number: \"))\n",
        "no2 = int(input(\"please enter another number: \" ))\n",
        "\n",
        "x = ((no1 + no2)/2)\n",
        "print(x)"
      ]
    },
    {
      "cell_type": "markdown",
      "id": "84a47670",
      "metadata": {
        "id": "84a47670"
      },
      "source": [
        "### Exercise 7:\n",
        "Design a program that asks the user to enter values for the length and height of a rectangle and then outputs the perimeter and area of the rectangle to the screen.\n",
        "\n",
        "Extension: ask the user to also type in a unit: cm, m, inches etc. Include this unit in the output."
      ]
    },
    {
      "cell_type": "code",
      "execution_count": 42,
      "id": "e32e93c8",
      "metadata": {
        "colab": {
          "base_uri": "https://localhost:8080/"
        },
        "id": "e32e93c8",
        "outputId": "a8ac7b90-044e-4e4f-9cdf-f50904f27567"
      },
      "outputs": [
        {
          "output_type": "stream",
          "name": "stdout",
          "text": [
            "please enter the length of the rectangle in cm:4\n",
            "please enter the height of the rectangle in cm:8\n",
            "area = 32\n",
            "perimiter = 24\n"
          ]
        }
      ],
      "source": [
        "l1 = int(input(\"please enter the length of the rectangle in cm:\"))\n",
        "h1 = int(input(\"please enter the height of the rectangle in cm:\"))\n",
        "\n",
        "a1 = (h1*l1)\n",
        "print(\"area =\",a1)\n",
        "\n",
        "p1 = ((h1+l1)*2)\n",
        "print(\"perimiter =\", p1)\n",
        "\n",
        "\n",
        "\n"
      ]
    },
    {
      "cell_type": "markdown",
      "id": "07c657a6",
      "metadata": {
        "id": "07c657a6"
      },
      "source": [
        "### Exercise 8:\n",
        "\n",
        "Write a script that will convert miles to feet. First ask the user to enter a quantity of miles. Store this in an appropriate variable. Then convert and output (print) the number of feet to the screen. Test this for a number of inputs to check the conversion works correctly.\n",
        "\n",
        "For reference, there are 5280 feet in 1.0 mile.\n",
        "\n",
        "Extension: Also ask the user to enter the same number of feet and check this converts back to the original number of miles."
      ]
    },
    {
      "cell_type": "code",
      "execution_count": 34,
      "id": "b12c7cd7",
      "metadata": {
        "colab": {
          "base_uri": "https://localhost:8080/"
        },
        "id": "b12c7cd7",
        "outputId": "4e234436-746b-4959-f68c-1ca077d36648"
      },
      "outputs": [
        {
          "output_type": "stream",
          "name": "stdout",
          "text": [
            "please enter how many miles3.2\n",
            "16896.0\n"
          ]
        }
      ],
      "source": [
        "mile1 = float(input(\"please enter how many miles\"))\n",
        "ft = (mile1*5280)\n",
        "print(ft)"
      ]
    },
    {
      "cell_type": "markdown",
      "id": "11077868",
      "metadata": {
        "id": "11077868"
      },
      "source": [
        "### Exercise 9:\n",
        "\n",
        "Write a program that will calculate the how much interest will paid on money invested in a savings account. Select an appropriate interest rate (based on the current markets at time of reading) and consider how you will represent this in your program. The user should enter the deposit amount and the program should display how much money the user will have after the interest is paid at the end of the year.\n",
        "\n",
        "Extension: Think about the appropriate formatting for currency. For example, consider how to print the output with two decimal places for pound sterling."
      ]
    },
    {
      "cell_type": "code",
      "execution_count": 70,
      "id": "ddf7677c",
      "metadata": {
        "colab": {
          "base_uri": "https://localhost:8080/"
        },
        "id": "ddf7677c",
        "outputId": "b9ff7840-b82e-410f-c598-c7110e7dc377"
      },
      "outputs": [
        {
          "output_type": "stream",
          "name": "stdout",
          "text": [
            "please enter the amount of money:700000\n",
            "735000.0\n"
          ]
        }
      ],
      "source": [
        "m1 = float(input(\"please enter the amount of money:\"))\n",
        "\n",
        "m2 = (0.05*m1)\n",
        "print(m2+m1)\n"
      ]
    },
    {
      "cell_type": "markdown",
      "id": "611abb55",
      "metadata": {
        "id": "611abb55"
      },
      "source": [
        "### Exercise 10:\n",
        "\n",
        "Ask the user to enter the month that they were born in. Calculate how many months it will be until their next birthday.\n",
        "\n",
        "For simplicity, it would be easier if they enter this in the format of an integer (int). For example, May would be the 5th month of the year.\n",
        "\n",
        "Challenge: Instead of asking for integers, ask the user to enter their month of birth as a string (str)!"
      ]
    },
    {
      "cell_type": "code",
      "execution_count": 74,
      "id": "7eb7cb96",
      "metadata": {
        "colab": {
          "base_uri": "https://localhost:8080/"
        },
        "id": "7eb7cb96",
        "outputId": "8593efcc-57f0-4128-b1c0-4de411deeaa5"
      },
      "outputs": [
        {
          "output_type": "stream",
          "name": "stdout",
          "text": [
            "please enter your birth month in numerical value:2\n",
            "please enter the current month in numerical value:10\n",
            "4\n"
          ]
        }
      ],
      "source": [
        "\n",
        "b1 = int(input(\"please enter your birth month in numerical value:\"))\n",
        "b2 = int(input(\"please enter the current month in numerical value:\"))\n",
        "if (b1 > 12):\n",
        " (print)(\"invalid input\")\n",
        "if(b2 > 12):\n",
        "  (print)(\"invalid input\")\n",
        "if(b1 == b2):\n",
        "  print(\"Happy birthday\")\n",
        "\n",
        "\n",
        "b3 = (12-b2+b1)\n",
        "print(b3)\n",
        "\n"
      ]
    },
    {
      "cell_type": "markdown",
      "id": "b3515ece",
      "metadata": {
        "id": "b3515ece"
      },
      "source": [
        "### (Bonus) Exercise 11:\n",
        "\n",
        "Further to the previous exercise, write some code that asks the user to enter their date of birth (DOB). Now calculate how old the user is from their date of birth and output this to the screen."
      ]
    },
    {
      "cell_type": "code",
      "execution_count": 76,
      "id": "1e99eb4e",
      "metadata": {
        "colab": {
          "base_uri": "https://localhost:8080/",
          "height": 253
        },
        "id": "1e99eb4e",
        "outputId": "abc6bce8-e244-4e7c-b1fa-36ac89a1f14d"
      },
      "outputs": [
        {
          "name": "stdout",
          "output_type": "stream",
          "text": [
            "please enter your date of birth:21.02.2003\n"
          ]
        },
        {
          "output_type": "error",
          "ename": "TypeError",
          "evalue": "ignored",
          "traceback": [
            "\u001b[0;31m---------------------------------------------------------------------------\u001b[0m",
            "\u001b[0;31mTypeError\u001b[0m                                 Traceback (most recent call last)",
            "\u001b[0;32m<ipython-input-76-5ef7e2c26518>\u001b[0m in \u001b[0;36m<cell line: 5>\u001b[0;34m()\u001b[0m\n\u001b[1;32m      3\u001b[0m \u001b[0mdob\u001b[0m \u001b[0;34m=\u001b[0m \u001b[0minput\u001b[0m\u001b[0;34m(\u001b[0m\u001b[0;34m\"please enter your date of birth:\"\u001b[0m\u001b[0;34m)\u001b[0m\u001b[0;34m\u001b[0m\u001b[0;34m\u001b[0m\u001b[0m\n\u001b[1;32m      4\u001b[0m \u001b[0;34m\u001b[0m\u001b[0m\n\u001b[0;32m----> 5\u001b[0;31m \u001b[0mage\u001b[0m \u001b[0;34m=\u001b[0m \u001b[0;34m(\u001b[0m\u001b[0mdob\u001b[0m \u001b[0;34m-\u001b[0m \u001b[0mcurrent_time\u001b[0m\u001b[0;34m)\u001b[0m\u001b[0;34m\u001b[0m\u001b[0;34m\u001b[0m\u001b[0m\n\u001b[0m\u001b[1;32m      6\u001b[0m \u001b[0mprint\u001b[0m\u001b[0;34m(\u001b[0m\u001b[0mage\u001b[0m\u001b[0;34m)\u001b[0m\u001b[0;34m\u001b[0m\u001b[0;34m\u001b[0m\u001b[0m\n",
            "\u001b[0;31mTypeError\u001b[0m: unsupported operand type(s) for -: 'str' and 'datetime.datetime'"
          ]
        }
      ],
      "source": [
        "import datetime\n",
        "current_time = datetime.datetime.now()\n",
        "dob = input(\"please enter your date of birth:\")\n",
        "\n",
        "age =\n",
        "print(age)\n"
      ]
    },
    {
      "cell_type": "markdown",
      "id": "befecdab",
      "metadata": {
        "id": "befecdab"
      },
      "source": [
        "### (Bonus) Exercise 12:\n",
        "Extend the previous exercise to calculate how many days it is until the user's next birthday from the DOB entered.\n",
        "\n",
        "Extension: Check whether this is a leap year, and if it is, remember to make an adjustment."
      ]
    },
    {
      "cell_type": "code",
      "execution_count": null,
      "id": "352f7891",
      "metadata": {
        "id": "352f7891"
      },
      "outputs": [],
      "source": []
    },
    {
      "cell_type": "markdown",
      "id": "3c4f2883",
      "metadata": {
        "id": "3c4f2883"
      },
      "source": [
        "### (Bonus) Exercise 13:\n",
        "\n",
        "Write a script which will process the user's DOB and output which day of the week they were born."
      ]
    },
    {
      "cell_type": "code",
      "execution_count": null,
      "id": "ec494e87",
      "metadata": {
        "id": "ec494e87"
      },
      "outputs": [],
      "source": []
    },
    {
      "cell_type": "markdown",
      "id": "32fb89f8",
      "metadata": {
        "id": "32fb89f8"
      },
      "source": [
        "### (Bonus) Exercise 14:\n",
        "Define a function called 'get_input'. The function should prompt the user to enter an input and then return this to the calling location. Test this works by calling the function a few times, prompting the user for different types of data.\n",
        "\n",
        "Extension 1: You may wish to extend this further to create a separate function which will 'get' (return) integers. This would be a separate function from the 'get_input' function, which would by default return strings (str).\n",
        "\n",
        "Extension 2: You may wish to incorporate this function into the scripts which process the user's DOB."
      ]
    },
    {
      "cell_type": "code",
      "execution_count": null,
      "id": "a3a12465",
      "metadata": {
        "id": "a3a12465"
      },
      "outputs": [],
      "source": []
    },
    {
      "cell_type": "markdown",
      "id": "c9e5e008",
      "metadata": {
        "id": "c9e5e008"
      },
      "source": [
        "### (Bonus) Exercise 15:\n",
        "Continuing from the previous exercise, can you add conditional statements that will evaluate whether the input is 'valid'. For example, if the user was asked to type in their date of birth, check to see whether this is the format required (this could be DD/MM/YYYY). Output a message to prompt the user if the format entered is not to the program's specification."
      ]
    },
    {
      "cell_type": "code",
      "execution_count": null,
      "id": "c391b1c0",
      "metadata": {
        "id": "c391b1c0"
      },
      "outputs": [],
      "source": []
    }
  ],
  "metadata": {
    "kernelspec": {
      "display_name": "Python 3 (ipykernel)",
      "language": "python",
      "name": "python3"
    },
    "language_info": {
      "codemirror_mode": {
        "name": "ipython",
        "version": 3
      },
      "file_extension": ".py",
      "mimetype": "text/x-python",
      "name": "python",
      "nbconvert_exporter": "python",
      "pygments_lexer": "ipython3",
      "version": "3.10.9"
    },
    "colab": {
      "provenance": [],
      "include_colab_link": true
    }
  },
  "nbformat": 4,
  "nbformat_minor": 5
}